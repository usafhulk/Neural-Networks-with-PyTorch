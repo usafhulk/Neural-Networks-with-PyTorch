{
  "cells": [
    {
      "cell_type": "code",
      "metadata": {
        "colab": {
          "base_uri": "https://localhost:8080/"
        },
        "id": "96f2e87b-b123-4760-b7a3-ccce73492ab5",
        "outputId": "e162a271-17c6-4525-ac91-167dd6028bac"
      },
      "outputs": [
        {
          "output_type": "execute_result",
          "data": {
            "text/plain": [
              "<torch._C.Generator at 0x7d5ffc1e1c70>"
            ]
          },
          "metadata": {},
          "execution_count": 1
        }
      ],
      "source": [
        "# !pip install torchvision==0.9.1 torch==1.8.1\n",
        "import torch\n",
        "import matplotlib.pylab as plt\n",
        "import numpy as np\n",
        "torch.manual_seed(0)"
      ],
      "execution_count": 1
    },
    {
      "cell_type": "markdown",
      "metadata": {
        "id": "692c880f-0581-4af7-b872-7b598d874368"
      },
      "source": [
        "This is the function for displaying images.\n"
      ]
    },
    {
      "cell_type": "code",
      "metadata": {
        "id": "23d0fef4-e9b7-425c-892c-a6c69a52c08c"
      },
      "outputs": [],
      "source": [
        "# Show data by diagram\n",
        "\n",
        "def show_data(data_sample, shape = (28, 28)):\n",
        "    plt.imshow(data_sample[0].numpy().reshape(shape), cmap='gray')\n",
        "    plt.title('y = ' + str(data_sample[1]))"
      ],
      "execution_count": 2
    },
    {
      "cell_type": "markdown",
      "metadata": {
        "id": "c82d35ec-796b-4b1e-93d9-7f6e42ac70da"
      },
      "source": [
        "<a name=\"Prebuilt_Dataset\"><h3 id=\"Prebuilt_Dataset\">Prebuilt Datasets</h3></a>\n"
      ]
    },
    {
      "cell_type": "markdown",
      "metadata": {
        "id": "39e94870-6f96-4c1f-a9f8-cf84d4d5e307"
      },
      "source": [
        "I will focus on the following libraries:\n"
      ]
    },
    {
      "cell_type": "code",
      "metadata": {
        "id": "55ceef6f-96e4-402e-8ff3-170d2aafa696"
      },
      "outputs": [],
      "source": [
        "# !mamba install -y torchvision\n",
        "\n",
        "import torchvision.transforms as transforms\n",
        "import torchvision.datasets as dsets"
      ],
      "execution_count": 3
    },
    {
      "cell_type": "markdown",
      "metadata": {
        "id": "c4f5c7fd-1672-4d15-a702-7c5f333450d8"
      },
      "source": [
        "import a prebuilt dataset, to work with several of these parameters later by placing a transform object in the argument <code>transform</code>.\n"
      ]
    },
    {
      "cell_type": "code",
      "metadata": {
        "id": "dc0aca85-5c1f-476e-912a-41d110119f8f"
      },
      "outputs": [],
      "source": [
        "# Import the prebuilt dataset into variable dataset\n",
        "dataset = dsets.MNIST(\n",
        "    root = './data',\n",
        "    download = True,\n",
        "    train = False,\n",
        "    transform = transforms.ToTensor()\n",
        ")"
      ],
      "execution_count": 38
    },
    {
      "cell_type": "markdown",
      "metadata": {
        "id": "5909fe1c-6fa9-469c-8efe-f932e66ef40b"
      },
      "source": [
        "Each element of the dataset object contains a tuple. The first element in the dataset should be a tuple.\n"
      ]
    },
    {
      "cell_type": "code",
      "metadata": {
        "colab": {
          "base_uri": "https://localhost:8080/"
        },
        "id": "547f9e6c-c679-4eb2-8cde-ffea710d74ed",
        "outputId": "d9011a1d-a38c-4763-9fe4-aa317d7b214c"
      },
      "outputs": [
        {
          "output_type": "stream",
          "name": "stdout",
          "text": [
            "Type of the first element:  <class 'tuple'>\n",
            "The length of the tuple:  2\n",
            "The shape of the first element in the tuple:  torch.Size([1, 28, 28])\n",
            "The type of the first element in the tuple <class 'torch.Tensor'>\n",
            "The second element in the tuple:  7\n",
            "The type of the second element in the tuple:  <class 'int'>\n",
            "As the result, the structure of the first element in the dataset is (tensor([1, 28, 28]), tensor(7)).\n"
          ]
        }
      ],
      "source": [
        "# Examine whether the elements in dataset MNIST are tuples\n",
        "\n",
        "print(\"Type of the first element: \", type(dataset[0]))\n",
        "print(\"The length of the tuple: \", len(dataset[0]))\n",
        "print(\"The shape of the first element in the tuple: \", dataset[0][0].shape)\n",
        "print(\"The type of the first element in the tuple\", type(dataset[0][0]))\n",
        "print(\"The second element in the tuple: \", dataset[0][1])\n",
        "print(\"The type of the second element in the tuple: \", type(dataset[0][1]))\n",
        "print(\"As the result, the structure of the first element in the dataset is (tensor([1, 28, 28]), tensor(7)).\")"
      ],
      "execution_count": 39
    },
    {
      "cell_type": "markdown",
      "metadata": {
        "id": "e82bfb88-ebba-4e23-91ae-dc93bf44aa3e"
      },
      "source": [
        "As shown in the output, the first element in the tuple is a cuboid tensor. There is a dimension with only size 1, so basically, it is a rectangular tensor.<br>\n",
        "The second element in the tuple is a number tensor, which indicate the real number the image shows. As the second element in the tuple is <code>tensor(7)</code>, the image should show a hand-written 7.\n"
      ]
    },
    {
      "cell_type": "markdown",
      "metadata": {
        "id": "9d75960d-5543-4813-a32f-76f2831b5815"
      },
      "source": [
        "Plotting the first element in the dataset:\n"
      ]
    },
    {
      "cell_type": "code",
      "metadata": {
        "colab": {
          "base_uri": "https://localhost:8080/",
          "height": 452
        },
        "id": "28f7eb6e-a9b1-4f46-9dc8-4816eef4d45f",
        "outputId": "c7d8401b-8575-484d-e576-35a86006e6b0"
      },
      "outputs": [
        {
          "output_type": "display_data",
          "data": {
            "text/plain": [
              "<Figure size 640x480 with 1 Axes>"
            ],
            "image/png": "[encoded data removed]"
          },
          "metadata": {}
        }
      ],
      "source": [
        "# Plot the first element in the dataset\n",
        "\n",
        "show_data(dataset[0])"
      ],
      "execution_count": 40
    },
    {
      "cell_type": "markdown",
      "metadata": {
        "id": "da80cda8-c180-4e6e-b1a3-1812daedd734"
      },
      "source": [
        "As we can see, it is a 7.\n"
      ]
    },
    {
      "cell_type": "markdown",
      "metadata": {
        "id": "09daa92d-14ac-4d5b-81b9-c443d3f6aa9f"
      },
      "source": [
        "Plot the second sample:   \n"
      ]
    },
    {
      "cell_type": "code",
      "metadata": {
        "colab": {
          "base_uri": "https://localhost:8080/",
          "height": 452
        },
        "id": "0af69462-e466-4a2d-b819-b51a985b0ac4",
        "outputId": "3482874b-7179-4cad-c8fc-ac75cdaefa28"
      },
      "outputs": [
        {
          "output_type": "display_data",
          "data": {
            "text/plain": [
              "<Figure size 640x480 with 1 Axes>"
            ],
            "image/png": "[encoded data removed]"
          },
          "metadata": {}
        }
      ],
      "source": [
        "# Plot the second element in the dataset\n",
        "\n",
        "show_data(dataset[1])"
      ],
      "execution_count": 41
    },
    {
      "cell_type": "markdown",
      "metadata": {
        "id": "d3d875ad-f108-49b6-8372-89897a34a905"
      },
      "source": [
        "<a name=\"Torchvision\"><h3 id=\"Torchvision\"> Torchvision Transforms  </h3></a>\n"
      ]
    },
    {
      "cell_type": "markdown",
      "metadata": {
        "id": "9c436085-82b6-4e00-8942-c41073fbd926"
      },
      "source": [
        "Apply some image transform functions on the MNIST dataset.\n"
      ]
    },
    {
      "cell_type": "markdown",
      "metadata": {
        "id": "f4dfc449-aad1-4089-bc31-8072f2ba7673"
      },
      "source": [
        "As an example, the images in the MNIST dataset can be cropped and converted to a tensor. Using the <code>transform.Compose</code> from previous notebooks to combine the two transform functions.\n"
      ]
    },
    {
      "cell_type": "code",
      "metadata": {
        "colab": {
          "base_uri": "https://localhost:8080/"
        },
        "id": "4feceed6-9733-469b-84f3-7ef376e05f80",
        "outputId": "9d138575-88bd-47ab-a8b1-7d469340307d"
      },
      "outputs": [
        {
          "output_type": "stream",
          "name": "stdout",
          "text": [
            "The shape of the first element in the first tuple:  torch.Size([1, 20, 20])\n"
          ]
        }
      ],
      "source": [
        "# Combine two transforms: crop and convert to tensor. Apply the compose to MNIST dataset\n",
        "\n",
        "croptensor_data_transform = transforms.Compose([transforms.CenterCrop(20), transforms.ToTensor()])\n",
        "dataset = dsets.MNIST(root = './data', train = False, download = True, transform = croptensor_data_transform)\n",
        "print(\"The shape of the first element in the first tuple: \", dataset[0][0].shape)"
      ],
      "execution_count": 46
    },
    {
      "cell_type": "markdown",
      "metadata": {
        "id": "8a97ddbb-a7c5-44d1-a12e-0c2a1b6b845a"
      },
      "source": [
        "The image is now 20 x 20 instead of 28 x 28.\n"
      ]
    },
    {
      "cell_type": "markdown",
      "metadata": {
        "id": "6b71d6da-57a1-4678-9e93-e1773015279b"
      },
      "source": [
        "Plotting the first image again. Notice that the black space around the <b>7</b> become less apparent.\n"
      ]
    },
    {
      "cell_type": "code",
      "metadata": {
        "colab": {
          "base_uri": "https://localhost:8080/",
          "height": 452
        },
        "id": "1b6a7fd2-cccc-49f2-b47f-394ef13b6882",
        "outputId": "02a5293b-78d4-498b-d7e5-a82a1b80fbfa"
      },
      "outputs": [
        {
          "output_type": "display_data",
          "data": {
            "text/plain": [
              "<Figure size 640x480 with 1 Axes>"
            ],
            "image/png": "[encoded data removed]"
          },
          "metadata": {}
        }
      ],
      "source": [
        "# Plot the first element in the dataset\n",
        "show_data(dataset[0],shape = (20, 20))"
      ],
      "execution_count": 47
    },
    {
      "cell_type": "code",
      "metadata": {
        "colab": {
          "base_uri": "https://localhost:8080/",
          "height": 452
        },
        "id": "3029dc70-2b92-40f7-9495-8a323e98a080",
        "outputId": "7b8843b3-bbb3-4aae-e7b1-7dc477ebbb05"
      },
      "outputs": [
        {
          "output_type": "display_data",
          "data": {
            "text/plain": [
              "<Figure size 640x480 with 1 Axes>"
            ],
            "image/png": "[encoded data removed]"
          },
          "metadata": {}
        }
      ],
      "source": [
        "# Plot the second element in the dataset\n",
        "\n",
        "show_data(dataset[1],shape = (20, 20))"
      ],
      "execution_count": 48
    },
    {
      "cell_type": "code",
      "source": [
        "# Combine two transforms: crop and convert to tensor. Apply the compose to MNIST dataset\n",
        "\n",
        "croptensor_data_transform = transforms.Compose([transforms.CenterCrop(50), transforms.ToTensor()])\n",
        "dataset = dsets.MNIST(root = './data', download = True, transform = croptensor_data_transform)\n",
        "print(\"The shape of the first element in the first tuple: \", dataset[0][0].shape)"
      ],
      "metadata": {
        "colab": {
          "base_uri": "https://localhost:8080/"
        },
        "id": "p1jWopdwqxXZ",
        "outputId": "153197a2-e6dc-4099-d2e1-1670d70e3db8"
      },
      "execution_count": 49,
      "outputs": [
        {
          "output_type": "stream",
          "name": "stdout",
          "text": [
            "The shape of the first element in the first tuple:  torch.Size([1, 50, 50])\n"
          ]
        }
      ]
    },
    {
      "cell_type": "code",
      "source": [
        "show_data(dataset[5], shape = (50,50))"
      ],
      "metadata": {
        "colab": {
          "base_uri": "https://localhost:8080/",
          "height": 452
        },
        "id": "BrfhctiqqWGw",
        "outputId": "bb26ae3b-76aa-4b35-9fb2-addb0862b716"
      },
      "execution_count": 50,
      "outputs": [
        {
          "output_type": "display_data",
          "data": {
            "text/plain": [
              "<Figure size 640x480 with 1 Axes>"
            ],
            "image/png": "[encoded data removed]"
          },
          "metadata": {}
        }
      ]
    },
    {
      "cell_type": "markdown",
      "metadata": {
        "id": "36d1b2d7-b9a9-4f78-bf77-536ee37469df"
      },
      "source": [
        "Below, the image is horizontally flipped, and then converted to a tensor. Use <code>transforms.Compose()</code> to combine these two transform functions. Plot the flipped image.\n"
      ]
    },
    {
      "cell_type": "code",
      "metadata": {
        "colab": {
          "base_uri": "https://localhost:8080/",
          "height": 452
        },
        "id": "3a97bfd2-7be0-4b9a-98ce-8ac135442ea7",
        "outputId": "73aac0da-6c42-45fd-af4b-0e3c3c02a1ab"
      },
      "outputs": [
        {
          "output_type": "display_data",
          "data": {
            "text/plain": [
              "<Figure size 640x480 with 1 Axes>"
            ],
            "image/png": "[encoded data removed]"
          },
          "metadata": {}
        }
      ],
      "source": [
        "# Construct the compose. Apply it on MNIST dataset. Plot the image out.\n",
        "\n",
        "fliptensor_data_transform = transforms.Compose([transforms.RandomHorizontalFlip(p = 1),transforms.ToTensor()])\n",
        "dataset = dsets.MNIST(root = './data', train = False, download = True, transform = fliptensor_data_transform)\n",
        "show_data(dataset[1])"
      ],
      "execution_count": 52
    },
    {
      "cell_type": "markdown",
      "metadata": {
        "id": "ba38ebec-8baa-479d-a0ba-2e5d2d85f4f7"
      },
      "source": [
        "Using the <code>RandomVerticalFlip</code> (vertically flip the image) with horizontally flip and convert to tensor as a compose. Apply the compose on image. Use <code>show_data()</code> to plot the second image.\n"
      ]
    },
    {
      "cell_type": "code",
      "metadata": {
        "colab": {
          "base_uri": "https://localhost:8080/",
          "height": 452
        },
        "id": "92a134c3-7c26-4a00-906f-9b4946ced5cc",
        "outputId": "ae935768-9122-4c50-c35b-5cc6708c6238"
      },
      "outputs": [
        {
          "output_type": "display_data",
          "data": {
            "text/plain": [
              "<Figure size 640x480 with 1 Axes>"
            ],
            "image/png": "[encoded data removed]"
          },
          "metadata": {}
        }
      ],
      "source": [
        "# Combine vertical flip, horizontal flip and convert to tensor as a compose. Apply the compose on image. Then plot the image\n",
        "\n",
        "my_data_transform = transforms.Compose([transforms.RandomVerticalFlip(p = 1),transforms.RandomHorizontalFlip(p = 1),transforms.ToTensor()])\n",
        "dataset = dsets.MNIST(root = './data', train = False, download = True, transform = my_data_transform)\n",
        "show_data(dataset[1])"
      ],
      "execution_count": 58
    }
  ],
  "metadata": {
    "kernelspec": {
      "display_name": "Python",
      "language": "python",
      "name": "conda-env-python-py"
    },
    "language_info": {
      "name": "python",
      "version": "3.7.12",
      "mimetype": "text/x-python",
      "codemirror_mode": {
        "name": "ipython",
        "version": 3
      },
      "pygments_lexer": "ipython3",
      "nbconvert_exporter": "python",
      "file_extension": ".py"
    },
    "prev_pub_hash": "1928496fd9a10b9d9a8848cad51eee73eb842a2d08a5331c6b3f7c03a33687eb",
    "colab": {
      "provenance": [],
      "gpuType": "T4"
    },
    "accelerator": "GPU"
  },
  "nbformat": 4,
  "nbformat_minor": 0
}