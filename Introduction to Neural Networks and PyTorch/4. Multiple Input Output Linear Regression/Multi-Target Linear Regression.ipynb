{
 "cells": [
  {
   "cell_type": "markdown",
   "id": "ae6e4ec0",
   "metadata": {},
   "source": [
    "# Class Linear"
   ]
  },
  {
   "cell_type": "code",
   "execution_count": 1,
   "id": "d4e996f5",
   "metadata": {},
   "outputs": [],
   "source": [
    "from torch import nn\n",
    "import torch"
   ]
  },
  {
   "cell_type": "code",
   "execution_count": 8,
   "id": "00779885",
   "metadata": {},
   "outputs": [
    {
     "data": {
      "text/plain": [
       "tensor([[ 0.7926, -0.3920,  0.1714,  0.0797, -1.0143,  0.5097, -0.0608,  0.5047,\n",
       "          1.0132,  0.1887],\n",
       "        [ 0.7926, -0.3920,  0.1714,  0.0797, -1.0143,  0.5097, -0.0608,  0.5047,\n",
       "          1.0132,  0.1887],\n",
       "        [ 1.8232, -1.2748, -0.2164,  1.0184, -2.8972,  1.7091, -0.4722,  1.5222,\n",
       "          1.2912, -0.0561]], grad_fn=<AddmmBackward0>)"
      ]
     },
     "execution_count": 8,
     "metadata": {},
     "output_type": "execute_result"
    }
   ],
   "source": [
    "torch.manual_seed(1)  # Set the random seed for reproducibility\n",
    "\n",
    "class linear_regression(nn.Module):  # Define a custom linear regression class inheriting from nn.Module\n",
    "    def __init__(self, input_size, output_size):  # Constructor with input and output size\n",
    "        super(linear_regression, self).__init__()  # Call the parent class constructor\n",
    "        self.linear = nn.Linear(input_size, output_size)  # Create a linear layer with given input and output size\n",
    "    def forward(self, x):  # Define the forward pass\n",
    "        yhat = self.linear(x)  # Apply the linear layer to input x\n",
    "        return yhat  # Return the output\n",
    "\n",
    "model = linear_regression(1, 10)  # Instantiate the model: 1 input feature, 10 outputs\n",
    "model(torch.tensor([1.0]))  # Pass a single input value through the model (for shape demonstration)\n",
    "\n",
    "list(model.parameters())  # List all model parameters (weights and biases)\n",
    "\n",
    "x = torch.tensor([[1.0]])  # Create a single input sample with shape (1, 1)\n",
    "\n",
    "yhat = model(x)  # Get the model's prediction for the single input\n",
    "yhat  # Output the prediction\n",
    "\n",
    "X = torch.tensor([[1.0], [1.0], [3.0]])  # Create multiple input samples (3 samples, 1 feature each)\n",
    "\n",
    "Yhat = model(X)  # Get the model's predictions for all input samples\n",
    "Yhat  # Output the predictions"
   ]
  },
  {
   "cell_type": "code",
   "execution_count": 11,
   "id": "51c851f9",
   "metadata": {},
   "outputs": [
    {
     "data": {
      "text/html": [
       "<img src=\"https://raw.githubusercontent.com/usafhulk/Neural-Networks-with-PyTorch-Tensor-and-Datasets/main/Introduction%20to%20Neural%20Networks%20and%20PyTorch/Images/Screen%20Shot%202018-08-05%20at%2011.42.57%20PM.png\" width=\"600\"/>"
      ],
      "text/plain": [
       "<IPython.core.display.Image object>"
      ]
     },
     "metadata": {},
     "output_type": "display_data"
    }
   ],
   "source": [
    "from IPython.display import Image, display\n",
    "display(Image(url=\"https://raw.githubusercontent.com/usafhulk/Neural-Networks-with-PyTorch-Tensor-and-Datasets/main/Introduction%20to%20Neural%20Networks%20and%20PyTorch/Images/Screen%20Shot%202018-08-05%20at%2011.42.57%20PM.png\", width=600))"
   ]
  },
  {
   "cell_type": "code",
   "execution_count": null,
   "id": "2a0c94e1",
   "metadata": {},
   "outputs": [],
   "source": []
  }
 ],
 "metadata": {
  "kernelspec": {
   "display_name": "Python (tf_gpu_clean)",
   "language": "python",
   "name": "tf_gpu_clean"
  }
 },
 "nbformat": 4,
 "nbformat_minor": 5
}
